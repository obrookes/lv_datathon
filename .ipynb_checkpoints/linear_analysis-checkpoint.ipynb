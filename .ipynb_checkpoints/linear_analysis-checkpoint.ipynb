{
 "cells": [
  {
   "cell_type": "code",
   "execution_count": 656,
   "metadata": {},
   "outputs": [],
   "source": [
    "import pandas as pd\n",
    "import numpy as np"
   ]
  },
  {
   "cell_type": "code",
   "execution_count": 657,
   "metadata": {},
   "outputs": [],
   "source": [
    "train = pd.read_csv(\"data/train.csv\")\n",
    "dev = pd.read_csv(\"data/val.csv\")"
   ]
  },
  {
   "cell_type": "code",
   "execution_count": 658,
   "metadata": {},
   "outputs": [],
   "source": [
    "target = 'Total Claim Amount'"
   ]
  },
  {
   "cell_type": "markdown",
   "metadata": {},
   "source": [
    "**Casting Categorical Data**"
   ]
  },
  {
   "cell_type": "code",
   "execution_count": 659,
   "metadata": {},
   "outputs": [],
   "source": [
    "# For training data\n",
    "\n",
    "train[\"State Code\"] = train[\"State Code\"].astype(\"category\")\n",
    "train[\"state_code_cat\"] = train[\"State Code\"].cat.codes\n",
    "\n",
    "train[\"Location Code\"] = train[\"Location Code\"].astype(\"category\")\n",
    "train[\"location_code_cat\"] = train[\"Location Code\"].cat.codes\n",
    "\n",
    "train[\"Response\"] = train[\"Response\"].astype(\"category\")\n",
    "train[\"response_code_cat\"] = train[\"Response\"].cat.codes\n",
    "\n",
    "train[\"Education\"] = train[\"Education\"].astype(\"category\")\n",
    "train[\"education_code_cat\"] = train[\"Education\"].cat.codes\n",
    "\n",
    "train[\"Claim Reason\"] = train[\"Claim Reason\"].astype(\"category\")\n",
    "train[\"claim_reason_code_cat\"] = train[\"Claim Reason\"].cat.codes\n",
    "\n",
    "train[\"Vehicle Class\"] = train[\"Vehicle Class\"].astype(\"category\")\n",
    "train[\"vehicle_class_code_cat\"] = train[\"Vehicle Class\"].cat.codes\n",
    "\n",
    "train[\"Vehicle Size\"] = train[\"Vehicle Size\"].astype(\"category\")\n",
    "train[\"vehicle_size_code_cat\"] = train[\"Vehicle Size\"].cat.codes\n",
    "\n",
    "train[\"EmploymentStatus\"] = train[\"EmploymentStatus\"].astype(\"category\")\n",
    "train[\"employment_code_cat\"] = train[\"EmploymentStatus\"].cat.codes\n",
    "\n",
    "train[\"Gender\"] = train[\"Gender\"].astype(\"category\")\n",
    "train[\"gender_code_cat\"] = train[\"Gender\"].cat.codes"
   ]
  },
  {
   "cell_type": "code",
   "execution_count": 660,
   "metadata": {},
   "outputs": [],
   "source": [
    "# For development data\n",
    "\n",
    "dev[\"State Code\"] = dev[\"State Code\"].astype(\"category\")\n",
    "dev[\"state_code_cat\"] = dev[\"State Code\"].cat.codes\n",
    "\n",
    "dev[\"Location Code\"] = dev[\"Location Code\"].astype(\"category\")\n",
    "dev[\"location_code_cat\"] = dev[\"Location Code\"].cat.codes\n",
    "\n",
    "dev[\"Response\"] = dev[\"Response\"].astype(\"category\")\n",
    "dev[\"response_code_cat\"] = dev[\"Response\"].cat.codes\n",
    "\n",
    "dev[\"Education\"] = dev[\"Education\"].astype(\"category\")\n",
    "dev[\"education_code_cat\"] = dev[\"Education\"].cat.codes\n",
    "\n",
    "dev[\"Claim Reason\"] = dev[\"Claim Reason\"].astype(\"category\")\n",
    "dev[\"claim_reason_code_cat\"] = dev[\"Claim Reason\"].cat.codes\n",
    "\n",
    "dev[\"Vehicle Class\"] = dev[\"Vehicle Class\"].astype(\"category\")\n",
    "dev[\"vehicle_class_code_cat\"] = dev[\"Vehicle Class\"].cat.codes\n",
    "\n",
    "dev[\"Vehicle Size\"] = dev[\"Vehicle Size\"].astype(\"category\")\n",
    "dev[\"vehicle_size_code_cat\"] = dev[\"Vehicle Size\"].cat.codes\n",
    "\n",
    "dev[\"EmploymentStatus\"] = dev[\"EmploymentStatus\"].astype(\"category\")\n",
    "dev[\"employment_code_cat\"] = dev[\"EmploymentStatus\"].cat.codes\n",
    "\n",
    "dev[\"Gender\"] = dev[\"Gender\"].astype(\"category\")\n",
    "dev[\"gender_code_cat\"] = dev[\"Gender\"].cat.codes"
   ]
  },
  {
   "cell_type": "code",
   "execution_count": 661,
   "metadata": {},
   "outputs": [
    {
     "data": {
      "text/html": [
       "<div>\n",
       "<style scoped>\n",
       "    .dataframe tbody tr th:only-of-type {\n",
       "        vertical-align: middle;\n",
       "    }\n",
       "\n",
       "    .dataframe tbody tr th {\n",
       "        vertical-align: top;\n",
       "    }\n",
       "\n",
       "    .dataframe thead th {\n",
       "        text-align: right;\n",
       "    }\n",
       "</style>\n",
       "<table border=\"1\" class=\"dataframe\">\n",
       "  <thead>\n",
       "    <tr style=\"text-align: right;\">\n",
       "      <th></th>\n",
       "      <th>Income</th>\n",
       "      <th>Monthly Premium Auto</th>\n",
       "      <th>Months Since Last Claim</th>\n",
       "      <th>Months Since Policy Inception</th>\n",
       "      <th>Number of Open Complaints</th>\n",
       "      <th>Number of Policies</th>\n",
       "      <th>Total Claim Amount</th>\n",
       "      <th>state_code_cat</th>\n",
       "      <th>location_code_cat</th>\n",
       "      <th>response_code_cat</th>\n",
       "      <th>education_code_cat</th>\n",
       "      <th>claim_reason_code_cat</th>\n",
       "      <th>vehicle_class_code_cat</th>\n",
       "      <th>vehicle_size_code_cat</th>\n",
       "      <th>employment_code_cat</th>\n",
       "      <th>gender_code_cat</th>\n",
       "    </tr>\n",
       "  </thead>\n",
       "  <tbody>\n",
       "    <tr>\n",
       "      <th>count</th>\n",
       "      <td>6227.000000</td>\n",
       "      <td>6227.000000</td>\n",
       "      <td>6227.000000</td>\n",
       "      <td>6227.000000</td>\n",
       "      <td>6227.000000</td>\n",
       "      <td>6227.000000</td>\n",
       "      <td>6227.000000</td>\n",
       "      <td>6227.000000</td>\n",
       "      <td>6227.000000</td>\n",
       "      <td>6227.000000</td>\n",
       "      <td>6227.000000</td>\n",
       "      <td>6227.000000</td>\n",
       "      <td>6227.000000</td>\n",
       "      <td>6227.000000</td>\n",
       "      <td>6227.000000</td>\n",
       "      <td>6227.000000</td>\n",
       "    </tr>\n",
       "    <tr>\n",
       "      <th>mean</th>\n",
       "      <td>37749.365184</td>\n",
       "      <td>93.098121</td>\n",
       "      <td>15.114020</td>\n",
       "      <td>48.441625</td>\n",
       "      <td>0.384615</td>\n",
       "      <td>2.979123</td>\n",
       "      <td>433.129785</td>\n",
       "      <td>1.697928</td>\n",
       "      <td>0.969167</td>\n",
       "      <td>0.147262</td>\n",
       "      <td>1.563514</td>\n",
       "      <td>1.006905</td>\n",
       "      <td>1.887105</td>\n",
       "      <td>1.091858</td>\n",
       "      <td>1.828489</td>\n",
       "      <td>0.491408</td>\n",
       "    </tr>\n",
       "    <tr>\n",
       "      <th>std</th>\n",
       "      <td>30406.820438</td>\n",
       "      <td>34.103801</td>\n",
       "      <td>10.084951</td>\n",
       "      <td>28.008969</td>\n",
       "      <td>0.907888</td>\n",
       "      <td>2.403194</td>\n",
       "      <td>287.905780</td>\n",
       "      <td>1.357115</td>\n",
       "      <td>0.603566</td>\n",
       "      <td>0.354395</td>\n",
       "      <td>1.382491</td>\n",
       "      <td>1.070792</td>\n",
       "      <td>2.073328</td>\n",
       "      <td>0.539993</td>\n",
       "      <td>1.348211</td>\n",
       "      <td>0.499966</td>\n",
       "    </tr>\n",
       "    <tr>\n",
       "      <th>min</th>\n",
       "      <td>0.000000</td>\n",
       "      <td>61.000000</td>\n",
       "      <td>0.000000</td>\n",
       "      <td>0.000000</td>\n",
       "      <td>0.000000</td>\n",
       "      <td>1.000000</td>\n",
       "      <td>0.099007</td>\n",
       "      <td>0.000000</td>\n",
       "      <td>0.000000</td>\n",
       "      <td>0.000000</td>\n",
       "      <td>0.000000</td>\n",
       "      <td>0.000000</td>\n",
       "      <td>0.000000</td>\n",
       "      <td>0.000000</td>\n",
       "      <td>0.000000</td>\n",
       "      <td>0.000000</td>\n",
       "    </tr>\n",
       "    <tr>\n",
       "      <th>25%</th>\n",
       "      <td>0.000000</td>\n",
       "      <td>68.000000</td>\n",
       "      <td>6.000000</td>\n",
       "      <td>25.000000</td>\n",
       "      <td>0.000000</td>\n",
       "      <td>1.000000</td>\n",
       "      <td>269.089743</td>\n",
       "      <td>0.000000</td>\n",
       "      <td>1.000000</td>\n",
       "      <td>0.000000</td>\n",
       "      <td>0.000000</td>\n",
       "      <td>0.000000</td>\n",
       "      <td>0.000000</td>\n",
       "      <td>1.000000</td>\n",
       "      <td>1.000000</td>\n",
       "      <td>0.000000</td>\n",
       "    </tr>\n",
       "    <tr>\n",
       "      <th>50%</th>\n",
       "      <td>34337.000000</td>\n",
       "      <td>83.000000</td>\n",
       "      <td>14.000000</td>\n",
       "      <td>48.000000</td>\n",
       "      <td>0.000000</td>\n",
       "      <td>2.000000</td>\n",
       "      <td>384.000000</td>\n",
       "      <td>2.000000</td>\n",
       "      <td>1.000000</td>\n",
       "      <td>0.000000</td>\n",
       "      <td>1.000000</td>\n",
       "      <td>1.000000</td>\n",
       "      <td>0.000000</td>\n",
       "      <td>1.000000</td>\n",
       "      <td>1.000000</td>\n",
       "      <td>0.000000</td>\n",
       "    </tr>\n",
       "    <tr>\n",
       "      <th>75%</th>\n",
       "      <td>62224.000000</td>\n",
       "      <td>109.000000</td>\n",
       "      <td>23.000000</td>\n",
       "      <td>72.000000</td>\n",
       "      <td>0.000000</td>\n",
       "      <td>4.000000</td>\n",
       "      <td>548.717347</td>\n",
       "      <td>3.000000</td>\n",
       "      <td>1.000000</td>\n",
       "      <td>0.000000</td>\n",
       "      <td>3.000000</td>\n",
       "      <td>2.000000</td>\n",
       "      <td>4.000000</td>\n",
       "      <td>1.000000</td>\n",
       "      <td>4.000000</td>\n",
       "      <td>1.000000</td>\n",
       "    </tr>\n",
       "    <tr>\n",
       "      <th>max</th>\n",
       "      <td>99981.000000</td>\n",
       "      <td>298.000000</td>\n",
       "      <td>35.000000</td>\n",
       "      <td>99.000000</td>\n",
       "      <td>5.000000</td>\n",
       "      <td>9.000000</td>\n",
       "      <td>2893.239678</td>\n",
       "      <td>4.000000</td>\n",
       "      <td>2.000000</td>\n",
       "      <td>1.000000</td>\n",
       "      <td>4.000000</td>\n",
       "      <td>3.000000</td>\n",
       "      <td>5.000000</td>\n",
       "      <td>2.000000</td>\n",
       "      <td>4.000000</td>\n",
       "      <td>1.000000</td>\n",
       "    </tr>\n",
       "  </tbody>\n",
       "</table>\n",
       "</div>"
      ],
      "text/plain": [
       "             Income  Monthly Premium Auto  Months Since Last Claim  \\\n",
       "count   6227.000000           6227.000000              6227.000000   \n",
       "mean   37749.365184             93.098121                15.114020   \n",
       "std    30406.820438             34.103801                10.084951   \n",
       "min        0.000000             61.000000                 0.000000   \n",
       "25%        0.000000             68.000000                 6.000000   \n",
       "50%    34337.000000             83.000000                14.000000   \n",
       "75%    62224.000000            109.000000                23.000000   \n",
       "max    99981.000000            298.000000                35.000000   \n",
       "\n",
       "       Months Since Policy Inception  Number of Open Complaints  \\\n",
       "count                    6227.000000                6227.000000   \n",
       "mean                       48.441625                   0.384615   \n",
       "std                        28.008969                   0.907888   \n",
       "min                         0.000000                   0.000000   \n",
       "25%                        25.000000                   0.000000   \n",
       "50%                        48.000000                   0.000000   \n",
       "75%                        72.000000                   0.000000   \n",
       "max                        99.000000                   5.000000   \n",
       "\n",
       "       Number of Policies  Total Claim Amount  state_code_cat  \\\n",
       "count         6227.000000         6227.000000     6227.000000   \n",
       "mean             2.979123          433.129785        1.697928   \n",
       "std              2.403194          287.905780        1.357115   \n",
       "min              1.000000            0.099007        0.000000   \n",
       "25%              1.000000          269.089743        0.000000   \n",
       "50%              2.000000          384.000000        2.000000   \n",
       "75%              4.000000          548.717347        3.000000   \n",
       "max              9.000000         2893.239678        4.000000   \n",
       "\n",
       "       location_code_cat  response_code_cat  education_code_cat  \\\n",
       "count        6227.000000        6227.000000         6227.000000   \n",
       "mean            0.969167           0.147262            1.563514   \n",
       "std             0.603566           0.354395            1.382491   \n",
       "min             0.000000           0.000000            0.000000   \n",
       "25%             1.000000           0.000000            0.000000   \n",
       "50%             1.000000           0.000000            1.000000   \n",
       "75%             1.000000           0.000000            3.000000   \n",
       "max             2.000000           1.000000            4.000000   \n",
       "\n",
       "       claim_reason_code_cat  vehicle_class_code_cat  vehicle_size_code_cat  \\\n",
       "count            6227.000000             6227.000000            6227.000000   \n",
       "mean                1.006905                1.887105               1.091858   \n",
       "std                 1.070792                2.073328               0.539993   \n",
       "min                 0.000000                0.000000               0.000000   \n",
       "25%                 0.000000                0.000000               1.000000   \n",
       "50%                 1.000000                0.000000               1.000000   \n",
       "75%                 2.000000                4.000000               1.000000   \n",
       "max                 3.000000                5.000000               2.000000   \n",
       "\n",
       "       employment_code_cat  gender_code_cat  \n",
       "count          6227.000000      6227.000000  \n",
       "mean              1.828489         0.491408  \n",
       "std               1.348211         0.499966  \n",
       "min               0.000000         0.000000  \n",
       "25%               1.000000         0.000000  \n",
       "50%               1.000000         0.000000  \n",
       "75%               4.000000         1.000000  \n",
       "max               4.000000         1.000000  "
      ]
     },
     "execution_count": 661,
     "metadata": {},
     "output_type": "execute_result"
    }
   ],
   "source": [
    "train.describe()"
   ]
  },
  {
   "cell_type": "code",
   "execution_count": 662,
   "metadata": {},
   "outputs": [
    {
     "data": {
      "text/plain": [
       "(0.099007, 2893.239678)"
      ]
     },
     "execution_count": 662,
     "metadata": {},
     "output_type": "execute_result"
    }
   ],
   "source": [
    "minimum = train[target].min()\n",
    "maximum = train[target].max()\n",
    "minimum, maximum"
   ]
  },
  {
   "cell_type": "code",
   "execution_count": 663,
   "metadata": {},
   "outputs": [],
   "source": [
    "bin_values = np.arange(start=minimum, stop=maximum, step=100)"
   ]
  },
  {
   "cell_type": "code",
   "execution_count": 664,
   "metadata": {},
   "outputs": [
    {
     "data": {
      "image/png": "[encoded data removed]",
      "text/plain": [
       "<Figure size 1008x432 with 1 Axes>"
      ]
     },
     "metadata": {
      "needs_background": "light"
     },
     "output_type": "display_data"
    }
   ],
   "source": [
    "train[target].hist(bins=bin_values, figsize=[14,6]);"
   ]
  },
  {
   "cell_type": "code",
   "execution_count": 665,
   "metadata": {},
   "outputs": [
    {
     "data": {
      "image/png": "[encoded data removed]",
      "text/plain": [
       "<Figure size 1008x432 with 1 Axes>"
      ]
     },
     "metadata": {
      "needs_background": "light"
     },
     "output_type": "display_data"
    }
   ],
   "source": [
    "dev[target].hist(bins=bin_values, figsize=[14,6]);"
   ]
  },
  {
   "cell_type": "code",
   "execution_count": 666,
   "metadata": {
    "scrolled": false
   },
   "outputs": [
    {
     "name": "stdout",
     "output_type": "stream",
     "text": [
      "<class 'pandas.core.frame.DataFrame'>\n",
      "RangeIndex: 6227 entries, 0 to 6226\n",
      "Data columns (total 34 columns):\n",
      " #   Column                         Non-Null Count  Dtype   \n",
      "---  ------                         --------------  -----   \n",
      " 0   Customer                       6227 non-null   object  \n",
      " 1   Country                        6227 non-null   object  \n",
      " 2   State Code                     6227 non-null   category\n",
      " 3   State                          6227 non-null   object  \n",
      " 4   Response                       6227 non-null   category\n",
      " 5   Coverage                       6227 non-null   object  \n",
      " 6   Education                      6227 non-null   category\n",
      " 7   Effective To Date              6227 non-null   object  \n",
      " 8   EmploymentStatus               6227 non-null   category\n",
      " 9   Gender                         6227 non-null   category\n",
      " 10  Income                         6227 non-null   int64   \n",
      " 11  Location Code                  6227 non-null   category\n",
      " 12  Marital Status                 6227 non-null   object  \n",
      " 13  Monthly Premium Auto           6227 non-null   int64   \n",
      " 14  Months Since Last Claim        6227 non-null   int64   \n",
      " 15  Months Since Policy Inception  6227 non-null   int64   \n",
      " 16  Number of Open Complaints      6227 non-null   int64   \n",
      " 17  Number of Policies             6227 non-null   int64   \n",
      " 18  Policy Type                    6227 non-null   object  \n",
      " 19  Policy                         6227 non-null   object  \n",
      " 20  Claim Reason                   6227 non-null   category\n",
      " 21  Sales Channel                  6227 non-null   object  \n",
      " 22  Total Claim Amount             6227 non-null   float64 \n",
      " 23  Vehicle Class                  6227 non-null   category\n",
      " 24  Vehicle Size                   6227 non-null   category\n",
      " 25  state_code_cat                 6227 non-null   int8    \n",
      " 26  location_code_cat              6227 non-null   int8    \n",
      " 27  response_code_cat              6227 non-null   int8    \n",
      " 28  education_code_cat             6227 non-null   int8    \n",
      " 29  claim_reason_code_cat          6227 non-null   int8    \n",
      " 30  vehicle_class_code_cat         6227 non-null   int8    \n",
      " 31  vehicle_size_code_cat          6227 non-null   int8    \n",
      " 32  employment_code_cat            6227 non-null   int8    \n",
      " 33  gender_code_cat                6227 non-null   int8    \n",
      "dtypes: category(9), float64(1), int64(6), int8(9), object(9)\n",
      "memory usage: 889.3+ KB\n"
     ]
    }
   ],
   "source": [
    "train.info()"
   ]
  },
  {
   "cell_type": "markdown",
   "metadata": {},
   "source": [
    "**Correlation Analysis**"
   ]
  },
  {
   "cell_type": "code",
   "execution_count": 667,
   "metadata": {},
   "outputs": [],
   "source": [
    "corr_matrix = train.corr()"
   ]
  },
  {
   "cell_type": "code",
   "execution_count": 668,
   "metadata": {},
   "outputs": [
    {
     "data": {
      "text/plain": [
       "Total Claim Amount               1.000000\n",
       "Monthly Premium Auto             0.627556\n",
       "employment_code_cat              0.330312\n",
       "location_code_cat                0.274216\n",
       "vehicle_class_code_cat           0.103465\n",
       "gender_code_cat                  0.080822\n",
       "vehicle_size_code_cat            0.078300\n",
       "Months Since Policy Inception    0.032962\n",
       "response_code_cat                0.018307\n",
       "education_code_cat               0.013226\n",
       "Months Since Last Claim          0.009167\n",
       "state_code_cat                  -0.002131\n",
       "Number of Policies              -0.009621\n",
       "Number of Open Complaints       -0.021708\n",
       "claim_reason_code_cat           -0.072520\n",
       "Income                          -0.359453\n",
       "Name: Total Claim Amount, dtype: float64"
      ]
     },
     "execution_count": 668,
     "metadata": {},
     "output_type": "execute_result"
    }
   ],
   "source": [
    "corr_matrix[target].sort_values(ascending=False)"
   ]
  },
  {
   "cell_type": "code",
   "execution_count": 669,
   "metadata": {},
   "outputs": [],
   "source": [
    "from sklearn.metrics import mean_absolute_error"
   ]
  },
  {
   "cell_type": "code",
   "execution_count": 670,
   "metadata": {},
   "outputs": [],
   "source": [
    "numerical_train = train.select_dtypes(include=['int64', 'int8']).copy()\n",
    "# Income has many 0 values, possibly equivalent to employment status\n",
    "# numerical_train['Income'].value_counts(0)"
   ]
  },
  {
   "cell_type": "code",
   "execution_count": 671,
   "metadata": {},
   "outputs": [],
   "source": [
    "all_features = numerical_train.columns.to_list()"
   ]
  },
  {
   "cell_type": "markdown",
   "metadata": {},
   "source": [
    "**Regression Models**"
   ]
  },
  {
   "cell_type": "code",
   "execution_count": 672,
   "metadata": {},
   "outputs": [],
   "source": [
    "from sklearn.tree import DecisionTreeRegressor\n",
    "from sklearn.linear_model import LinearRegression\n",
    "from sklearn.ensemble import GradientBoostingRegressor\n",
    "lin_reg = LinearRegression()\n",
    "tree_reg = DecisionTreeRegressor()\n",
    "gb_reg = GradientBoostingRegressor()\n",
    "xb_reg = xgb.XGBRegressor()\n",
    "svr_reg = SVR()"
   ]
  },
  {
   "cell_type": "code",
   "execution_count": 673,
   "metadata": {},
   "outputs": [],
   "source": [
    "reg_list = [lin_reg, tree_reg, gb_reg, xb_reg,svr_reg]"
   ]
  },
  {
   "cell_type": "code",
   "execution_count": 674,
   "metadata": {},
   "outputs": [],
   "source": [
    "def gen_reg_dict(reg, all_features):\n",
    "    reg_dict = {}\n",
    "    for feature in all_features:\n",
    "            reg = regressor.fit(train[[feature]],train[target])\n",
    "            pred = reg.predict(dev[[feature]])\n",
    "            reg_dict[feature] = mean_absolute_error(dev[target], pred)\n",
    "    return reg_dict"
   ]
  },
  {
   "cell_type": "code",
   "execution_count": 675,
   "metadata": {},
   "outputs": [],
   "source": [
    "univariate_dict = {}\n",
    "for regressor in reg_list:\n",
    "    univariate_dict[regressor] = gen_reg_dict(regressor, all_features)"
   ]
  },
  {
   "cell_type": "code",
   "execution_count": 676,
   "metadata": {},
   "outputs": [
    {
     "data": {
      "text/plain": [
       "{LinearRegression(): {'Income': 192.44720938559578,\n",
       "  'Monthly Premium Auto': 149.29668005594283,\n",
       "  'Months Since Last Claim': 203.517977332219,\n",
       "  'Months Since Policy Inception': 204.10882738117715,\n",
       "  'Number of Open Complaints': 203.31114901435032,\n",
       "  'Number of Policies': 203.59339067490393,\n",
       "  'state_code_cat': 203.52357988681536,\n",
       "  'location_code_cat': 201.3795881239137,\n",
       "  'response_code_cat': 203.40475252785333,\n",
       "  'education_code_cat': 203.32699471225777,\n",
       "  'claim_reason_code_cat': 202.2151715064698,\n",
       "  'vehicle_class_code_cat': 201.16316231475614,\n",
       "  'vehicle_size_code_cat': 202.90779063984056,\n",
       "  'employment_code_cat': 193.1964957205594,\n",
       "  'gender_code_cat': 203.84367242005703},\n",
       " DecisionTreeRegressor(): {'Income': 227.11364218015436,\n",
       "  'Monthly Premium Auto': 157.38716574206873,\n",
       "  'Months Since Last Claim': 203.63436820579224,\n",
       "  'Months Since Policy Inception': 205.1827578403903,\n",
       "  'Number of Open Complaints': 203.58664210033683,\n",
       "  'Number of Policies': 204.46575441285117,\n",
       "  'state_code_cat': 203.67590021905252,\n",
       "  'location_code_cat': 145.78432855114914,\n",
       "  'response_code_cat': 203.40475252785345,\n",
       "  'education_code_cat': 200.54016402661895,\n",
       "  'claim_reason_code_cat': 201.08613927441826,\n",
       "  'vehicle_class_code_cat': 166.92917489242495,\n",
       "  'vehicle_size_code_cat': 202.2286123388974,\n",
       "  'employment_code_cat': 189.56078129961702,\n",
       "  'gender_code_cat': 203.84367242005715},\n",
       " GradientBoostingRegressor(): {'Income': 189.58780761226225,\n",
       "  'Monthly Premium Auto': 152.798379898902,\n",
       "  'Months Since Last Claim': 203.57016160612648,\n",
       "  'Months Since Policy Inception': 204.87604736716142,\n",
       "  'Number of Open Complaints': 203.58663668061092,\n",
       "  'Number of Policies': 204.46377721269886,\n",
       "  'state_code_cat': 203.67589596169665,\n",
       "  'location_code_cat': 145.78393346480584,\n",
       "  'response_code_cat': 203.40475595216662,\n",
       "  'education_code_cat': 200.5401413317852,\n",
       "  'claim_reason_code_cat': 201.0861639858496,\n",
       "  'vehicle_class_code_cat': 166.92920204973345,\n",
       "  'vehicle_size_code_cat': 202.2286099368681,\n",
       "  'employment_code_cat': 189.5607664803901,\n",
       "  'gender_code_cat': 203.84363852492947},\n",
       " XGBRegressor(base_score=0.5, booster='gbtree', colsample_bylevel=1,\n",
       "              colsample_bynode=1, colsample_bytree=1, gamma=0, gpu_id=-1,\n",
       "              importance_type='gain', interaction_constraints='',\n",
       "              learning_rate=0.300000012, max_delta_step=0, max_depth=6,\n",
       "              min_child_weight=1, missing=nan, monotone_constraints='()',\n",
       "              n_estimators=100, n_jobs=12, num_parallel_tree=1, random_state=0,\n",
       "              reg_alpha=0, reg_lambda=1, scale_pos_weight=1, subsample=1,\n",
       "              tree_method='exact', validate_parameters=1, verbosity=None): {'Income': 192.45210743278844,\n",
       "  'Monthly Premium Auto': 154.61373547151098,\n",
       "  'Months Since Last Claim': 203.63436763727947,\n",
       "  'Months Since Policy Inception': 205.18069027931065,\n",
       "  'Number of Open Complaints': 203.58663401475945,\n",
       "  'Number of Policies': 204.46574864070908,\n",
       "  'state_code_cat': 203.67589408991776,\n",
       "  'location_code_cat': 145.78431095674867,\n",
       "  'response_code_cat': 203.4047484085581,\n",
       "  'education_code_cat': 200.54015563127712,\n",
       "  'claim_reason_code_cat': 201.0861322642188,\n",
       "  'vehicle_class_code_cat': 166.92916940784562,\n",
       "  'vehicle_size_code_cat': 202.22860276963536,\n",
       "  'employment_code_cat': 189.5607748184886,\n",
       "  'gender_code_cat': 203.84366380425723},\n",
       " SVR(): {'Income': 184.71635159481323,\n",
       "  'Monthly Premium Auto': 155.67593602826716,\n",
       "  'Months Since Last Claim': 198.71289076495336,\n",
       "  'Months Since Policy Inception': 198.67710459835476,\n",
       "  'Number of Open Complaints': 198.5290198334733,\n",
       "  'Number of Policies': 198.79174452371728,\n",
       "  'state_code_cat': 198.63295147871446,\n",
       "  'location_code_cat': 138.81732358041012,\n",
       "  'response_code_cat': 198.20158592741956,\n",
       "  'education_code_cat': 196.13956280882462,\n",
       "  'claim_reason_code_cat': 196.27076620023715,\n",
       "  'vehicle_class_code_cat': 179.0046035295292,\n",
       "  'vehicle_size_code_cat': 196.4382679957409,\n",
       "  'employment_code_cat': 185.21812354263545,\n",
       "  'gender_code_cat': 198.5773471762378}}"
      ]
     },
     "execution_count": 676,
     "metadata": {},
     "output_type": "execute_result"
    }
   ],
   "source": [
    "univariate_dict"
   ]
  },
  {
   "cell_type": "markdown",
   "metadata": {},
   "source": [
    "## Multivariate"
   ]
  },
  {
   "cell_type": "markdown",
   "metadata": {},
   "source": [
    "**All Features**"
   ]
  },
  {
   "cell_type": "code",
   "execution_count": 677,
   "metadata": {},
   "outputs": [],
   "source": [
    "multivariate_dict = {}\n",
    "\n",
    "for regressor in reg_list:\n",
    "    reg = regressor.fit(train[all_features],train[target])\n",
    "    pred = reg.predict(dev[all_features])\n",
    "    multivariate_dict[regressor] = mean_absolute_error(dev[target], pred)"
   ]
  },
  {
   "cell_type": "code",
   "execution_count": 678,
   "metadata": {},
   "outputs": [
    {
     "data": {
      "text/plain": [
       "{LinearRegression(): 136.41251836714494,\n",
       " DecisionTreeRegressor(): 95.55614700706488,\n",
       " GradientBoostingRegressor(): 79.26093791435385,\n",
       " XGBRegressor(base_score=0.5, booster='gbtree', colsample_bylevel=1,\n",
       "              colsample_bynode=1, colsample_bytree=1, gamma=0, gpu_id=-1,\n",
       "              importance_type='gain', interaction_constraints='',\n",
       "              learning_rate=0.300000012, max_delta_step=0, max_depth=6,\n",
       "              min_child_weight=1, missing=nan, monotone_constraints='()',\n",
       "              n_estimators=100, n_jobs=12, num_parallel_tree=1, random_state=0,\n",
       "              reg_alpha=0, reg_lambda=1, scale_pos_weight=1, subsample=1,\n",
       "              tree_method='exact', validate_parameters=1, verbosity=None): 77.90439272495199,\n",
       " SVR(): 185.06627774592693}"
      ]
     },
     "execution_count": 678,
     "metadata": {},
     "output_type": "execute_result"
    }
   ],
   "source": [
    "multivariate_dict"
   ]
  },
  {
   "cell_type": "markdown",
   "metadata": {},
   "source": [
    "**Hand Picking Some Features**"
   ]
  },
  {
   "cell_type": "code",
   "execution_count": 682,
   "metadata": {},
   "outputs": [],
   "source": [
    "features = [\n",
    "    'Monthly Premium Auto',\n",
    "    'Income',\n",
    "    'location_code_cat'\n",
    "    ]"
   ]
  },
  {
   "cell_type": "markdown",
   "metadata": {},
   "source": [
    "Encoding Location Data"
   ]
  },
  {
   "cell_type": "markdown",
   "metadata": {},
   "source": [
    "### Individual Models"
   ]
  },
  {
   "cell_type": "code",
   "execution_count": 683,
   "metadata": {},
   "outputs": [],
   "source": [
    "x_train = train[features].to_numpy()\n",
    "y_train = train[target].to_numpy()"
   ]
  },
  {
   "cell_type": "code",
   "execution_count": 684,
   "metadata": {},
   "outputs": [],
   "source": [
    "x_dev = dev[features].to_numpy()\n",
    "y_dev = dev[target].to_numpy()"
   ]
  },
  {
   "cell_type": "markdown",
   "metadata": {},
   "source": [
    "**Exploring XGB: Retrieving Feature Importance**"
   ]
  },
  {
   "cell_type": "code",
   "execution_count": 685,
   "metadata": {},
   "outputs": [
    {
     "data": {
      "text/plain": [
       "77.59590174948914"
      ]
     },
     "execution_count": 685,
     "metadata": {},
     "output_type": "execute_result"
    }
   ],
   "source": [
    "reg = xb_reg.fit(x_train,y_train)\n",
    "pred = xb_reg.predict(x_dev)\n",
    "score = mean_absolute_error(y_dev, pred)\n",
    "score"
   ]
  },
  {
   "cell_type": "code",
   "execution_count": 686,
   "metadata": {},
   "outputs": [
    {
     "data": {
      "text/plain": [
       "array([0.1466593 , 0.01919662, 0.8341441 ], dtype=float32)"
      ]
     },
     "execution_count": 686,
     "metadata": {},
     "output_type": "execute_result"
    }
   ],
   "source": [
    "xb_reg.feature_importances_"
   ]
  },
  {
   "cell_type": "code",
   "execution_count": 699,
   "metadata": {},
   "outputs": [
    {
     "data": {
      "text/plain": [
       "<Figure size 864x864 with 0 Axes>"
      ]
     },
     "metadata": {},
     "output_type": "display_data"
    },
    {
     "data": {
      "image/png": "[encoded data removed]",
      "text/plain": [
       "<Figure size 432x288 with 1 Axes>"
      ]
     },
     "metadata": {
      "needs_background": "light"
     },
     "output_type": "display_data"
    }
   ],
   "source": [
    "from numpy import loadtxt\n",
    "from xgboost import plot_tree\n",
    "import matplotlib.pyplot as plt\n",
    "\n",
    "plt.figure(figsize=(12,12))  # set plot size (denoted in inches)\n",
    "plot_tree(xb_reg, fontsize=10)\n",
    "plt.show()"
   ]
  },
  {
   "cell_type": "markdown",
   "metadata": {},
   "source": [
    "**SVR & Linear Regression: Normalising, Scaling etc.**"
   ]
  },
  {
   "cell_type": "code",
   "execution_count": 687,
   "metadata": {},
   "outputs": [],
   "source": [
    "from sklearn.svm import SVR\n",
    "from sklearn.pipeline import make_pipeline\n",
    "from sklearn.preprocessing import StandardScaler"
   ]
  },
  {
   "cell_type": "code",
   "execution_count": 688,
   "metadata": {},
   "outputs": [
    {
     "data": {
      "text/plain": [
       "106.27901378977708"
      ]
     },
     "execution_count": 688,
     "metadata": {},
     "output_type": "execute_result"
    }
   ],
   "source": [
    "svr_reg = make_pipeline(StandardScaler(), SVR(C=1.0, epsilon=0.2))\n",
    "svr_reg.fit(x_train, y_train)\n",
    "svr_pred = svr_reg.predict(x_dev)\n",
    "svr_score = mean_absolute_error(y_dev, svr_pred)\n",
    "svr_score\n",
    "# Score of 184 without StandardScaler"
   ]
  },
  {
   "cell_type": "code",
   "execution_count": 689,
   "metadata": {},
   "outputs": [
    {
     "data": {
      "text/plain": [
       "140.618775871928"
      ]
     },
     "execution_count": 689,
     "metadata": {},
     "output_type": "execute_result"
    }
   ],
   "source": [
    "lin_nreg = make_pipeline(StandardScaler(), LinearRegression())\n",
    "lin_nreg.fit(x_train, y_train)\n",
    "lin_npred = lin_nreg.predict(x_dev)\n",
    "lin_nscore = mean_absolute_error(y_dev, lin_npred)\n",
    "lin_nscore"
   ]
  }
 ],
 "metadata": {
  "kernelspec": {
   "display_name": "Python 3",
   "language": "python",
   "name": "python3"
  },
  "language_info": {
   "codemirror_mode": {
    "name": "ipython",
    "version": 3
   },
   "file_extension": ".py",
   "mimetype": "text/x-python",
   "name": "python",
   "nbconvert_exporter": "python",
   "pygments_lexer": "ipython3",
   "version": "3.8.5"
  }
 },
 "nbformat": 4,
 "nbformat_minor": 4
}
